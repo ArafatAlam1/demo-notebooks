{
 "cells": [
  {
   "cell_type": "code",
   "execution_count": 5,
   "metadata": {
    "collapsed": false
   },
   "outputs": [],
   "source": [
    "from owslib.wms import WebMapService\n",
    "url = \"https://ogcie.iblsoft.com/metocean/wms\"\n",
    "wms = WebMapService(url, version=\"1.1.1\")"
   ]
  },
  {
   "cell_type": "code",
   "execution_count": 13,
   "metadata": {
    "collapsed": false
   },
   "outputs": [
    {
     "data": {
      "text/plain": [
       "['surface-obs',\n",
       " 'temp-obs',\n",
       " 'radar-cerad',\n",
       " 'satellites-msg-ir',\n",
       " 'gfs-temperature-isbl',\n",
       " 'gfs-temperature-agl',\n",
       " 'gfs-wind-isbl',\n",
       " 'gfs-wind-agl',\n",
       " 'gfs-msl-pressure',\n",
       " 'gfs-precipication-6h',\n",
       " 'gefs-temperature-agl',\n",
       " 'gefs-temperature-isbl',\n",
       " 'gefs-temperature-probability-agl',\n",
       " 'gefs-temperature-probability-isbl',\n",
       " 'gefs-temperature-percentile-agl',\n",
       " 'gefs-temperature-percentile-isbl',\n",
       " 'gefs-precipication-6h',\n",
       " 'gefs-precipitation-probability-6h',\n",
       " 'gefs-precipitation-percentile-6h',\n",
       " 'foreground-lines']"
      ]
     },
     "execution_count": 13,
     "metadata": {},
     "output_type": "execute_result"
    }
   ],
   "source": [
    "list(wms.contents)"
   ]
  },
  {
   "cell_type": "code",
   "execution_count": 18,
   "metadata": {
    "collapsed": false
   },
   "outputs": [
    {
     "data": {
      "text/plain": [
       "'GFS Temperature (isobaric levels)'"
      ]
     },
     "execution_count": 18,
     "metadata": {},
     "output_type": "execute_result"
    }
   ],
   "source": [
    "wms['gfs-temperature-isbl'].title"
   ]
  },
  {
   "cell_type": "code",
   "execution_count": 19,
   "metadata": {
    "collapsed": true
   },
   "outputs": [],
   "source": [
    "layer = wms['gfs-temperature-isbl']"
   ]
  },
  {
   "cell_type": "code",
   "execution_count": 20,
   "metadata": {
    "collapsed": false
   },
   "outputs": [
    {
     "data": {
      "text/plain": [
       "['2016-07-28T12:00:00Z',\n",
       " '2016-07-28T15:00:00Z',\n",
       " '2016-07-28T18:00:00Z',\n",
       " '2016-07-28T21:00:00Z',\n",
       " '2016-07-29T00:00:00Z',\n",
       " '2016-07-29T03:00:00Z',\n",
       " '2016-07-29T06:00:00Z',\n",
       " '2016-07-29T09:00:00Z',\n",
       " '2016-07-29T12:00:00Z',\n",
       " '2016-07-29T15:00:00Z',\n",
       " '2016-07-29T18:00:00Z',\n",
       " '2016-07-29T21:00:00Z',\n",
       " '2016-07-30T00:00:00Z',\n",
       " '2016-07-30T03:00:00Z',\n",
       " '2016-07-30T06:00:00Z',\n",
       " '2016-07-30T09:00:00Z',\n",
       " '2016-07-30T12:00:00Z',\n",
       " '2016-07-30T15:00:00Z',\n",
       " '2016-07-30T18:00:00Z',\n",
       " '2016-07-30T21:00:00Z',\n",
       " '2016-07-31T00:00:00Z',\n",
       " '2016-07-31T03:00:00Z',\n",
       " '2016-07-31T06:00:00Z',\n",
       " '2016-07-31T12:00:00Z',\n",
       " '2016-07-31T18:00:00Z',\n",
       " '2016-08-01T00:00:00Z',\n",
       " '2016-08-01T06:00:00Z',\n",
       " '2016-08-01T12:00:00Z',\n",
       " '2016-08-01T18:00:00Z',\n",
       " '2016-08-02T00:00:00Z',\n",
       " '2016-08-02T06:00:00Z',\n",
       " '2016-08-02T12:00:00Z',\n",
       " '2016-08-02T18:00:00Z',\n",
       " '2016-08-03T00:00:00Z',\n",
       " '2016-08-03T06:00:00Z',\n",
       " '2016-08-03T12:00:00Z',\n",
       " '2016-08-03T18:00:00Z',\n",
       " '2016-08-04T00:00:00Z',\n",
       " '2016-08-04T06:00:00Z',\n",
       " '2016-08-04T12:00:00Z',\n",
       " '2016-08-04T18:00:00Z',\n",
       " '2016-08-05T00:00:00Z',\n",
       " '2016-08-05T06:00:00Z',\n",
       " '2016-08-05T12:00:00Z',\n",
       " '2016-08-05T18:00:00Z',\n",
       " '2016-08-06T00:00:00Z',\n",
       " '2016-08-06T06:00:00Z']"
      ]
     },
     "execution_count": 20,
     "metadata": {},
     "output_type": "execute_result"
    }
   ],
   "source": [
    "layer.timepositions"
   ]
  },
  {
   "cell_type": "code",
   "execution_count": null,
   "metadata": {
    "collapsed": true
   },
   "outputs": [],
   "source": []
  }
 ],
 "metadata": {
  "kernelspec": {
   "display_name": "Python 2",
   "language": "python",
   "name": "python2"
  },
  "language_info": {
   "codemirror_mode": {
    "name": "ipython",
    "version": 2
   },
   "file_extension": ".py",
   "mimetype": "text/x-python",
   "name": "python",
   "nbconvert_exporter": "python",
   "pygments_lexer": "ipython2",
   "version": "2.7.12"
  }
 },
 "nbformat": 4,
 "nbformat_minor": 0
}
